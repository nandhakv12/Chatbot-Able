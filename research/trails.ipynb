{
 "cells": [
  {
   "cell_type": "code",
   "execution_count": 4,
   "metadata": {},
   "outputs": [
    {
     "data": {
      "text/plain": [
       "'c:\\\\Users\\\\nandh\\\\Chatbot-Able\\\\research'"
      ]
     },
     "execution_count": 4,
     "metadata": {},
     "output_type": "execute_result"
    }
   ],
   "source": [
    "%pwd"
   ]
  },
  {
   "cell_type": "code",
   "execution_count": 5,
   "metadata": {},
   "outputs": [],
   "source": [
    "import os \n",
    "os.chdir(\"../\")"
   ]
  },
  {
   "cell_type": "code",
   "execution_count": 6,
   "metadata": {},
   "outputs": [
    {
     "data": {
      "text/plain": [
       "'c:\\\\Users\\\\nandh\\\\Chatbot-Able'"
      ]
     },
     "execution_count": 6,
     "metadata": {},
     "output_type": "execute_result"
    }
   ],
   "source": [
    "%pwd"
   ]
  },
  {
   "cell_type": "markdown",
   "metadata": {},
   "source": [
    "Load the data "
   ]
  },
  {
   "cell_type": "code",
   "execution_count": 7,
   "metadata": {},
   "outputs": [
    {
     "data": {
      "text/plain": [
       "{'url': 'https://able.co/work/syntax',\n",
       " 'text': 'Syntax | Advancing Development with AI Solutions\\nThe collective achievements of Syntax and Able stand as a testament to our commitment to providing our partners with a concentrated burst of premium product engineering expertise with the shared goal of accelerating the zero-to-market journey with a fixed amount of pre-seed funding.\\n“Able is a go-to-market cheat code for early founder teams. Without them, we couldn’t have moved this fast (and with such high quality).”\\n—Will Hudgins, VP of Engineering Syntax'}"
      ]
     },
     "execution_count": 7,
     "metadata": {},
     "output_type": "execute_result"
    }
   ],
   "source": [
    "import json\n",
    "\n",
    "with open(\"Data/able_data.json\", \"r\", encoding=\"utf-8\") as f:\n",
    "    data = json.load(f)\n",
    "\n",
    "# Preview first item\n",
    "data[0]\n"
   ]
  },
  {
   "cell_type": "code",
   "execution_count": 8,
   "metadata": {},
   "outputs": [
    {
     "name": "stdout",
     "output_type": "stream",
     "text": [
      "<class 'list'>\n",
      "[{'url': 'https://able.co/work/syntax', 'text': 'Syntax | Advancing Development with AI Solutions\\nThe collective achievements of Syntax and Able stand as a testament to our commitment to providing our partners with a concentrated burst of premium product engineering expertise with the shared goal of accelerating the zero-to-market journey with a fixed amount of pre-seed funding.\\n“Able is a go-to-market cheat code for early founder teams. Without them, we couldn’t have moved this fast (and with such high quality).”\\n—Will Hudgins, VP of Engineering Syntax'}, {'url': 'https://able.co/work/up-together', 'text': 'UpTogether | Optimizing Nonprofit Operations with AI\\nThe assessment focused on both backend and frontend solutions, analyzing the breadth of existing Python microservices. Additionally, the AWS architecture, Lambdas, API Gateways, scheduled tasks, event handlers, and RDS instances were evaluated. The assessment relied on:\\nInternal Engineering team interviews and follow-ups\\nDeep dive into the existing documentation\\nTechnical Audit of Systems\\nFirst-hand knowledge and experiences from the Able team, having already worked on several areas\\nThe assessment was completed by the Tech Lead and a part of the assigned team over the span of three months, as they kept working on new releases and other improvements in parallel.'}]\n"
     ]
    }
   ],
   "source": [
    "print(type(data))\n",
    "print(data[:2])\n"
   ]
  },
  {
   "cell_type": "markdown",
   "metadata": {},
   "source": [
    "Create LangChain Document objects"
   ]
  },
  {
   "cell_type": "code",
   "execution_count": 76,
   "metadata": {},
   "outputs": [
    {
     "name": "stdout",
     "output_type": "stream",
     "text": [
      "✅ Loaded 10 documents\n",
      "page_content='Syntax | Advancing Development with AI Solutions\n",
      "The collective achievements of Syntax and Able stand as a testament to our commitment to providing our partners with a concentrated burst of premium product engineering expertise with the shared goal of accelerating the zero-to-market journey with a fixed amount of pre-seed funding.\n",
      "“Able is a go-to-market cheat code for early founder teams. Without them, we couldn’t have moved this fast (and with such high quality).”\n",
      "—Will Hudgins, VP of Engineering Syntax' metadata={'source': 'https://able.co/work/syntax'}\n"
     ]
    }
   ],
   "source": [
    "from langchain.schema import Document\n",
    "\n",
    "documents = [\n",
    "    Document(page_content=entry[\"text\"], metadata={\"source\": entry[\"url\"]})\n",
    "    for entry in data\n",
    "    if \"text\" in entry and \"url\" in entry\n",
    "]\n",
    "\n",
    "print(f\"✅ Loaded {len(documents)} documents\")\n",
    "print(documents[0])  # Preview first one\n"
   ]
  },
  {
   "cell_type": "code",
   "execution_count": 305,
   "metadata": {},
   "outputs": [],
   "source": [
    "from langchain.text_splitter import RecursiveCharacterTextSplitter\n",
    "from langchain.schema import Document\n",
    "\n",
    "def split_documents_into_chunks(documents, chunk_size=200, chunk_overlap=100):\n",
    "    \"\"\"\n",
    "    Splits a list of LangChain Document objects into smaller chunks.\n",
    "    \n",
    "    Args:\n",
    "        documents (list): List of langchain.schema.Document objects.\n",
    "        chunk_size (int): Maximum size of each chunk (in characters).\n",
    "        chunk_overlap (int): Number of overlapping characters between chunks.\n",
    "        \n",
    "    Returns:\n",
    "        list: List of split Document chunks.\n",
    "    \"\"\"\n",
    "    text_splitter = RecursiveCharacterTextSplitter(\n",
    "        chunk_size=chunk_size,\n",
    "        chunk_overlap=chunk_overlap\n",
    "    )\n",
    "    chunks = text_splitter.split_documents(documents)\n",
    "    print(f\"✅ Split into {len(chunks)} chunks\")\n",
    "    print(chunks[0])  # Preview first chunk\n",
    "    return chunks\n"
   ]
  },
  {
   "cell_type": "code",
   "execution_count": 306,
   "metadata": {},
   "outputs": [
    {
     "name": "stdout",
     "output_type": "stream",
     "text": [
      "✅ Split into 148 chunks\n",
      "page_content='Syntax | Advancing Development with AI Solutions' metadata={'source': 'https://able.co/work/syntax'}\n"
     ]
    }
   ],
   "source": [
    "\n",
    "chunks = split_documents_into_chunks(documents)\n"
   ]
  },
  {
   "cell_type": "code",
   "execution_count": 272,
   "metadata": {},
   "outputs": [
    {
     "name": "stdout",
     "output_type": "stream",
     "text": [
      "Chunk 1: 48 characters\n",
      "Chunk 2: 148 characters\n",
      "Chunk 3: 146 characters\n",
      "Chunk 4: 40 characters\n",
      "Chunk 5: 137 characters\n",
      "Chunk 6: 39 characters\n",
      "Chunk 7: 52 characters\n",
      "Chunk 8: 140 characters\n",
      "Chunk 9: 147 characters\n",
      "Chunk 10: 25 characters\n",
      "Chunk 11: 120 characters\n",
      "Chunk 12: 122 characters\n",
      "Chunk 13: 149 characters\n",
      "Chunk 14: 59 characters\n",
      "Chunk 15: 51 characters\n",
      "Chunk 16: 149 characters\n",
      "Chunk 17: 144 characters\n",
      "Chunk 18: 72 characters\n",
      "Chunk 19: 133 characters\n",
      "Chunk 20: 145 characters\n",
      "Chunk 21: 84 characters\n",
      "Chunk 22: 91 characters\n",
      "Chunk 23: 148 characters\n",
      "Chunk 24: 71 characters\n",
      "Chunk 25: 144 characters\n",
      "Chunk 26: 36 characters\n",
      "Chunk 27: 29 characters\n",
      "Chunk 28: 145 characters\n",
      "Chunk 29: 65 characters\n",
      "Chunk 30: 138 characters\n",
      "Chunk 31: 92 characters\n",
      "Chunk 32: 99 characters\n",
      "Chunk 33: 129 characters\n",
      "Chunk 34: 145 characters\n",
      "Chunk 35: 70 characters\n",
      "Chunk 36: 99 characters\n",
      "Chunk 37: 50 characters\n",
      "Chunk 38: 142 characters\n",
      "Chunk 39: 33 characters\n",
      "Chunk 40: 16 characters\n",
      "Chunk 41: 145 characters\n",
      "Chunk 42: 101 characters\n",
      "Chunk 43: 14 characters\n",
      "Chunk 44: 145 characters\n",
      "Chunk 45: 136 characters\n",
      "Chunk 46: 21 characters\n",
      "Chunk 47: 149 characters\n",
      "Chunk 48: 136 characters\n",
      "Chunk 49: 33 characters\n",
      "Chunk 50: 147 characters\n",
      "Chunk 51: 39 characters\n",
      "Chunk 52: 26 characters\n",
      "Chunk 53: 130 characters\n",
      "Chunk 54: 35 characters\n",
      "Chunk 55: 149 characters\n",
      "Chunk 56: 49 characters\n",
      "Chunk 57: 38 characters\n",
      "Chunk 58: 149 characters\n",
      "Chunk 59: 128 characters\n",
      "Chunk 60: 115 characters\n",
      "Chunk 61: 109 characters\n",
      "Chunk 62: 83 characters\n",
      "Chunk 63: 133 characters\n",
      "Chunk 64: 82 characters\n",
      "Chunk 65: 83 characters\n",
      "Chunk 66: 100 characters\n",
      "Chunk 67: 141 characters\n",
      "Chunk 68: 147 characters\n",
      "Chunk 69: 43 characters\n",
      "Chunk 70: 126 characters\n",
      "Chunk 71: 143 characters\n",
      "Chunk 72: 143 characters\n",
      "Chunk 73: 58 characters\n",
      "Chunk 74: 146 characters\n",
      "Chunk 75: 92 characters\n",
      "Chunk 76: 145 characters\n",
      "Chunk 77: 108 characters\n",
      "Chunk 78: 21 characters\n",
      "Chunk 79: 145 characters\n",
      "Chunk 80: 77 characters\n",
      "Chunk 81: 149 characters\n",
      "Chunk 82: 75 characters\n",
      "Chunk 83: 142 characters\n",
      "Chunk 84: 148 characters\n",
      "Chunk 85: 93 characters\n",
      "Chunk 86: 146 characters\n",
      "Chunk 87: 147 characters\n",
      "Chunk 88: 144 characters\n",
      "Chunk 89: 29 characters\n",
      "Chunk 90: 143 characters\n",
      "Chunk 91: 95 characters\n",
      "Chunk 92: 148 characters\n",
      "Chunk 93: 59 characters\n",
      "Chunk 94: 146 characters\n",
      "Chunk 95: 146 characters\n",
      "Chunk 96: 140 characters\n",
      "Chunk 97: 143 characters\n",
      "Chunk 98: 58 characters\n",
      "Chunk 99: 141 characters\n",
      "Chunk 100: 48 characters\n",
      "Chunk 101: 140 characters\n",
      "Chunk 102: 43 characters\n",
      "Chunk 103: 143 characters\n",
      "Chunk 104: 82 characters\n",
      "Chunk 105: 30 characters\n",
      "Chunk 106: 146 characters\n",
      "Chunk 107: 112 characters\n",
      "Chunk 108: 13 characters\n",
      "Chunk 109: 74 characters\n",
      "Chunk 110: 142 characters\n",
      "Chunk 111: 94 characters\n",
      "Chunk 112: 45 characters\n",
      "Chunk 113: 149 characters\n",
      "Chunk 114: 13 characters\n",
      "Chunk 115: 148 characters\n",
      "Chunk 116: 92 characters\n",
      "Chunk 117: 83 characters\n",
      "Chunk 118: 146 characters\n",
      "Chunk 119: 48 characters\n",
      "Chunk 120: 26 characters\n",
      "Chunk 121: 145 characters\n",
      "Chunk 122: 60 characters\n",
      "Chunk 123: 146 characters\n",
      "Chunk 124: 103 characters\n",
      "Chunk 125: 104 characters\n",
      "Chunk 126: 130 characters\n",
      "Chunk 127: 139 characters\n",
      "Chunk 128: 139 characters\n",
      "Chunk 129: 29 characters\n",
      "Chunk 130: 143 characters\n",
      "Chunk 131: 142 characters\n",
      "Chunk 132: 149 characters\n",
      "Chunk 133: 31 characters\n",
      "Chunk 134: 139 characters\n",
      "Chunk 135: 123 characters\n",
      "Chunk 136: 48 characters\n",
      "Chunk 137: 144 characters\n",
      "Chunk 138: 61 characters\n",
      "Chunk 139: 139 characters\n",
      "Chunk 140: 64 characters\n",
      "Chunk 141: 90 characters\n",
      "Chunk 142: 149 characters\n",
      "Chunk 143: 121 characters\n",
      "Chunk 144: 120 characters\n",
      "Chunk 145: 146 characters\n",
      "Chunk 146: 101 characters\n",
      "Chunk 147: 130 characters\n",
      "Chunk 148: 103 characters\n",
      "Chunk 149: 143 characters\n",
      "Chunk 150: 147 characters\n",
      "Chunk 151: 55 characters\n",
      "Chunk 152: 18 characters\n",
      "Chunk 153: 145 characters\n",
      "Chunk 154: 87 characters\n",
      "Chunk 155: 49 characters\n",
      "Chunk 156: 143 characters\n",
      "Chunk 157: 48 characters\n",
      "Chunk 158: 25 characters\n",
      "Chunk 159: 142 characters\n",
      "Chunk 160: 116 characters\n",
      "Chunk 161: 146 characters\n",
      "Chunk 162: 112 characters\n",
      "Chunk 163: 81 characters\n",
      "Chunk 164: 148 characters\n",
      "Chunk 165: 88 characters\n",
      "Chunk 166: 62 characters\n",
      "Chunk 167: 100 characters\n",
      "Chunk 168: 148 characters\n",
      "Chunk 169: 43 characters\n",
      "Chunk 170: 66 characters\n",
      "Chunk 171: 121 characters\n",
      "Chunk 172: 32 characters\n",
      "Chunk 173: 142 characters\n",
      "Chunk 174: 121 characters\n",
      "Chunk 175: 110 characters\n",
      "Chunk 176: 101 characters\n",
      "Chunk 177: 95 characters\n",
      "Chunk 178: 90 characters\n",
      "Chunk 179: 149 characters\n",
      "Chunk 180: 50 characters\n",
      "Chunk 181: 17 characters\n",
      "Chunk 182: 139 characters\n",
      "Chunk 183: 108 characters\n",
      "Chunk 184: 143 characters\n",
      "Chunk 185: 44 characters\n",
      "Chunk 186: 144 characters\n",
      "Chunk 187: 53 characters\n",
      "Chunk 188: 31 characters\n",
      "Chunk 189: 142 characters\n",
      "Chunk 190: 39 characters\n",
      "Chunk 191: 140 characters\n",
      "Chunk 192: 59 characters\n",
      "Chunk 193: 134 characters\n",
      "Chunk 194: 25 characters\n",
      "Chunk 195: 147 characters\n",
      "Chunk 196: 33 characters\n",
      "Chunk 197: 121 characters\n",
      "Chunk 198: 148 characters\n",
      "Chunk 199: 33 characters\n",
      "Chunk 200: 146 characters\n",
      "Chunk 201: 47 characters\n",
      "Chunk 202: 39 characters\n",
      "Chunk 203: 140 characters\n",
      "Chunk 204: 95 characters\n",
      "Chunk 205: 120 characters\n"
     ]
    }
   ],
   "source": [
    "for i, chunk in enumerate(chunks):  # or whatever variable you used\n",
    "    print(f\"Chunk {i+1}: {len(chunk.page_content)} characters\")\n"
   ]
  },
  {
   "cell_type": "code",
   "execution_count": 307,
   "metadata": {},
   "outputs": [
    {
     "name": "stdout",
     "output_type": "stream",
     "text": [
      "Variable                           Type                     Data/Info\n",
      "---------------------------------------------------------------------\n",
      "ChatPromptTemplate                 ModelMetaclass           <class 'langchain_core.pr<...>chat.ChatPromptTemplate'>\n",
      "Document                           ModelMetaclass           <class 'langchain_core.documents.base.Document'>\n",
      "HuggingFaceEmbeddings              ModelMetaclass           <class 'langchain_communi<...>e.HuggingFaceEmbeddings'>\n",
      "OPENAI_API_KEY                     str                      sk-proj-laW5wB5zkcBK_PLhe<...>D6m-hhTV6OfXWbr7wvtM2EmQA\n",
      "OpenAI                             ModelMetaclass           <class 'langchain_openai.llms.base.OpenAI'>\n",
      "PINECONE_API_KEY                   str                      pcsk_3CjN9E_DBDJ2X8TgvCay<...>A5ua2iAnzD8vVAKWLorTN8wun\n",
      "Path                               type                     <class 'pathlib.Path'>\n",
      "Pinecone                           ABCMeta                  <class 'pinecone.control.pinecone.Pinecone'>\n",
      "PineconeVectorStore                ABCMeta                  <class 'langchain_pinecon<...>res.PineconeVectorStore'>\n",
      "RecursiveCharacterTextSplitter     ABCMeta                  <class 'langchain_text_sp<...>veCharacterTextSplitter'>\n",
      "SentenceTransformer                type                     <class 'sentence_transfor<...>mer.SentenceTransformer'>\n",
      "ServerlessSpec                     type                     <class 'pinecone.models.s<...>ess_spec.ServerlessSpec'>\n",
      "chunk                              Document                 page_content='ModelOps Pl<...>d lifecycle management.'}\n",
      "chunks                             list                     n=148\n",
      "client                             OpenAI                   <openai.OpenAI object at 0x000001B16AB0B400>\n",
      "create_retrieval_chain             function                 <function create_retrieva<...>in at 0x000001B165B9FB50>\n",
      "create_stuff_documents_chain       function                 <function create_stuff_do<...>in at 0x000001B166B96830>\n",
      "data                               list                     n=12\n",
      "docsearch                          PineconeVectorStore      <langchain_pinecone.vecto<...>ct at 0x000001B16F456350>\n",
      "documents                          list                     n=10\n",
      "download_hugging_face_embeddings   function                 <function download_huggin<...>gs at 0x000001B16F443F40>\n",
      "embeddings                         HuggingFaceEmbeddings    client=SentenceTransforme<...>False show_progress=False\n",
      "env_path                           WindowsPath              .env\n",
      "evaluator                          ContextQAEvalChain       verbose=False prompt=Prom<...>putParser() llm_kwargs={}\n",
      "f                                  TextIOWrapper            <_io.TextIOWrapper name='<...>ode='r' encoding='utf-8'>\n",
      "i                                  int                      1\n",
      "index_name                         str                      ablechatbot\n",
      "json                               module                   <module 'json' from 'c:\\\\<...>\\lib\\\\json\\\\__init__.py'>\n",
      "langchain                          module                   <module 'langchain' from <...>\\langchain\\\\__init__.py'>\n",
      "langchain_text_splitters           module                   <module 'langchain_text_s<...>_splitters\\\\__init__.py'>\n",
      "llm                                OpenAI                   \u001b[1mOpenAI\u001b[0m\\nParams: {<...> None, 'max_tokens': 500}\n",
      "load_dotenv                        function                 <function load_dotenv at 0x000001B155538B80>\n",
      "load_evaluator                     function                 <function load_evaluator at 0x000001B189F3CC10>\n",
      "loaded                             bool                     True\n",
      "model                              SentenceTransformer      SentenceTransformer(\\n  (<...>})\\n  (2): Normalize()\\n)\n",
      "os                                 module                   <module 'os' from 'c:\\\\Us<...>\\Chatbotenv\\\\lib\\\\os.py'>\n",
      "pc                                 Pinecone                 <pinecone.control.pinecon<...>ct at 0x000001B16F456FE0>\n",
      "prompt                             ChatPromptTemplate       input_variables=['context<...>), additional_kwargs={})]\n",
      "query_result                       list                     n=384\n",
      "question_answer_chain              RunnableBinding          bound=RunnableBinding(bou<...>ain'} config_factories=[]\n",
      "rag_chain                          RunnableBinding          bound=RunnableAssign(mapp<...>ain'} config_factories=[]\n",
      "response                           dict                     n=3\n",
      "retrieved_docs                     list                     n=0\n",
      "retriever                          VectorStoreRetriever     tags=['PineconeVectorStor<...>0> search_kwargs={'k': 4}\n",
      "score                              float                    0.40685537457466125\n",
      "similarity_score                   function                 <function similarity_score at 0x000001B16F45D360>\n",
      "split_documents_into_chunks        function                 <function split_documents<...>ks at 0x000001B195986560>\n",
      "system_prompt                      str                      You are a helpful AI assi<...>s.\\n\\nContext:\\n{context}\n",
      "test                               dict                     n=2\n",
      "test_questions                     list                     n=2\n",
      "util                               module                   <module 'sentence_transfo<...>e_transformers\\\\util.py'>\n"
     ]
    }
   ],
   "source": [
    "%whos\n"
   ]
  },
  {
   "cell_type": "code",
   "execution_count": 308,
   "metadata": {},
   "outputs": [],
   "source": [
    "from langchain.embeddings import HuggingFaceEmbeddings\n",
    "#Download the Embeddings from Hugging Face\n",
    "def download_hugging_face_embeddings():\n",
    "    embeddings=HuggingFaceEmbeddings(model_name='sentence-transformers/all-mpnet-base-v2')\n",
    "    return embeddings\n"
   ]
  },
  {
   "cell_type": "code",
   "execution_count": 309,
   "metadata": {},
   "outputs": [
    {
     "name": "stderr",
     "output_type": "stream",
     "text": [
      "c:\\Users\\nandh\\anaconda3\\envs\\Chatbotenv\\lib\\site-packages\\huggingface_hub\\file_download.py:142: UserWarning: `huggingface_hub` cache-system uses symlinks by default to efficiently store duplicated files but your machine does not support them in C:\\Users\\nandh\\.cache\\huggingface\\hub\\models--sentence-transformers--all-mpnet-base-v2. Caching files will still work but in a degraded version that might require more space on your disk. This warning can be disabled by setting the `HF_HUB_DISABLE_SYMLINKS_WARNING` environment variable. For more details, see https://huggingface.co/docs/huggingface_hub/how-to-cache#limitations.\n",
      "To support symlinks on Windows, you either need to activate Developer Mode or to run Python as an administrator. In order to activate developer mode, see this article: https://docs.microsoft.com/en-us/windows/apps/get-started/enable-your-device-for-development\n",
      "  warnings.warn(message)\n"
     ]
    }
   ],
   "source": [
    "embeddings = download_hugging_face_embeddings()"
   ]
  },
  {
   "cell_type": "code",
   "execution_count": 310,
   "metadata": {},
   "outputs": [
    {
     "name": "stdout",
     "output_type": "stream",
     "text": [
      "Length 768\n"
     ]
    }
   ],
   "source": [
    "query_result = embeddings.embed_query(\"Hello world\")\n",
    "print(\"Length\", len(query_result))"
   ]
  },
  {
   "cell_type": "code",
   "execution_count": 311,
   "metadata": {},
   "outputs": [
    {
     "name": "stdout",
     "output_type": "stream",
     "text": [
      "✅ .env loaded: True\n"
     ]
    }
   ],
   "source": [
    "from dotenv import load_dotenv\n",
    "from pathlib import Path\n",
    "import os\n",
    "\n",
    "# .env is in the current directory\n",
    "env_path = Path(\".\") / \".env\"\n",
    "loaded = load_dotenv(dotenv_path=env_path)\n",
    "\n",
    "print(\"✅ .env loaded:\", loaded)\n"
   ]
  },
  {
   "cell_type": "code",
   "execution_count": 312,
   "metadata": {},
   "outputs": [],
   "source": [
    "PINECONE_API_KEY = os.environ.get('PINECONE_API_KEY')"
   ]
  },
  {
   "cell_type": "code",
   "execution_count": 352,
   "metadata": {},
   "outputs": [
    {
     "data": {
      "text/plain": [
       "{\n",
       "    \"name\": \"ablechatbot\",\n",
       "    \"metric\": \"cosine\",\n",
       "    \"host\": \"ablechatbot-ahm1pur.svc.aped-4627-b74a.pinecone.io\",\n",
       "    \"spec\": {\n",
       "        \"serverless\": {\n",
       "            \"cloud\": \"aws\",\n",
       "            \"region\": \"us-east-1\"\n",
       "        }\n",
       "    },\n",
       "    \"status\": {\n",
       "        \"ready\": true,\n",
       "        \"state\": \"Ready\"\n",
       "    },\n",
       "    \"vector_type\": \"dense\",\n",
       "    \"dimension\": 768,\n",
       "    \"deletion_protection\": \"disabled\",\n",
       "    \"tags\": null\n",
       "}"
      ]
     },
     "execution_count": 352,
     "metadata": {},
     "output_type": "execute_result"
    }
   ],
   "source": [
    "\n",
    "from pinecone import Pinecone, ServerlessSpec\n",
    "\n",
    "pc = Pinecone(api_key= PINECONE_API_KEY)\n",
    "index_name = \"ablechatbot\"\n",
    "\n",
    "pc.create_index(\n",
    "    name=index_name,\n",
    "    dimension=768, # Replace with your model dimensions\n",
    "    metric=\"cosine\", # Replace with your model metric\n",
    "    spec=ServerlessSpec(\n",
    "        cloud=\"aws\",\n",
    "        region=\"us-east-1\"\n",
    "    ) \n",
    ")"
   ]
  },
  {
   "cell_type": "code",
   "execution_count": 353,
   "metadata": {},
   "outputs": [],
   "source": [
    "import os \n",
    "os.environ[\"PINECONE_API_KEY\"]=PINECONE_API_KEY\n"
   ]
  },
  {
   "cell_type": "code",
   "execution_count": 354,
   "metadata": {},
   "outputs": [],
   "source": [
    "# Embed each chunk and upsert the embeddings into your Pinecone index.\n",
    "from langchain_pinecone import PineconeVectorStore\n",
    "\n",
    "docsearch = PineconeVectorStore.from_documents(\n",
    "    documents=chunks,\n",
    "    index_name=index_name,\n",
    "    embedding=embeddings, \n",
    ")"
   ]
  },
  {
   "cell_type": "code",
   "execution_count": 355,
   "metadata": {},
   "outputs": [],
   "source": [
    "# Load Existing index \n",
    "\n",
    "from langchain_pinecone import PineconeVectorStore\n",
    "# Embed each chunk and upsert the embeddings into your Pinecone index.\n",
    "docsearch = PineconeVectorStore.from_existing_index(\n",
    "    index_name=index_name,\n",
    "    embedding=embeddings\n",
    ")"
   ]
  },
  {
   "cell_type": "code",
   "execution_count": 356,
   "metadata": {},
   "outputs": [
    {
     "data": {
      "text/plain": [
       "<langchain_pinecone.vectorstores.PineconeVectorStore at 0x1b1b6731750>"
      ]
     },
     "execution_count": 356,
     "metadata": {},
     "output_type": "execute_result"
    }
   ],
   "source": [
    "docsearch\n"
   ]
  },
  {
   "cell_type": "code",
   "execution_count": 357,
   "metadata": {},
   "outputs": [],
   "source": [
    "retriever = docsearch.as_retriever(search_type=\"similarity\", search_kwargs={\"k\":2})"
   ]
  },
  {
   "cell_type": "code",
   "execution_count": 358,
   "metadata": {},
   "outputs": [],
   "source": [
    "retrieved_docs = retriever.invoke(\"What is Able?\")"
   ]
  },
  {
   "cell_type": "code",
   "execution_count": 359,
   "metadata": {},
   "outputs": [
    {
     "data": {
      "text/plain": [
       "[Document(id='214ca5c8-0082-4ec4-ac9d-4365bde8e712', metadata={'source': 'https://able.co/work/syntax'}, page_content='“Able is a go-to-market cheat code for early founder teams. Without them, we couldn’t have moved this fast (and with such high quality).”\\n—Will Hudgins, VP of Engineering Syntax'),\n",
       " Document(id='2769e453-dd5a-4fdf-87d2-836945bd2bd4', metadata={'source': 'https://able.co/team'}, page_content=\"Able has taught us that regardless of the challenge or complexity, there's nothing we can't achieve together.”\")]"
      ]
     },
     "execution_count": 359,
     "metadata": {},
     "output_type": "execute_result"
    }
   ],
   "source": [
    "retrieved_docs"
   ]
  },
  {
   "cell_type": "code",
   "execution_count": 360,
   "metadata": {},
   "outputs": [],
   "source": [
    "OPENAI_API_KEY = os.environ.get('OPENAI_API_KEY')\n",
    "\n"
   ]
  },
  {
   "cell_type": "code",
   "execution_count": 361,
   "metadata": {},
   "outputs": [
    {
     "name": "stdout",
     "output_type": "stream",
     "text": [
      "✅ .env loaded: True\n"
     ]
    }
   ],
   "source": [
    "from dotenv import load_dotenv\n",
    "from pathlib import Path\n",
    "import os\n",
    "\n",
    "# .env is in the current directory\n",
    "env_path = Path(\".\") / \".env\"\n",
    "loaded = load_dotenv(dotenv_path=env_path)\n",
    "\n",
    "print(\"✅ .env loaded:\", loaded)\n"
   ]
  },
  {
   "cell_type": "code",
   "execution_count": 362,
   "metadata": {},
   "outputs": [],
   "source": [
    "import os \n",
    "os.environ[\"OPENAI_API_KEY\"]=OPENAI_API_KEY"
   ]
  },
  {
   "cell_type": "code",
   "execution_count": 363,
   "metadata": {},
   "outputs": [],
   "source": [
    "from langchain_openai import OpenAI\n",
    "llm = OpenAI(temperature=0.4, max_tokens=500)"
   ]
  },
  {
   "cell_type": "code",
   "execution_count": 364,
   "metadata": {},
   "outputs": [],
   "source": [
    "from langchain.chains import create_retrieval_chain\n",
    "from langchain.chains.combine_documents import create_stuff_documents_chain\n",
    "from langchain_core.prompts import ChatPromptTemplate"
   ]
  },
  {
   "cell_type": "code",
   "execution_count": 365,
   "metadata": {},
   "outputs": [],
   "source": [
    "system_prompt = (\n",
    "    \"You are a helpful AI assistant trained on internal company knowledge from Able.co, \"\n",
    "    \"covering its services, projects, team culture, and technology practices. \"\n",
    "    \"Answer each question using only the provided context below. \"\n",
    "    \"If the answer is not available, say: 'I’m not sure based on the available information.' \"\n",
    "    \"Keep your responses concise, clear, and no longer than 3 sentences.\"\n",
    "    \"\\n\\nContext:\\n{context}\"\n",
    ")\n"
   ]
  },
  {
   "cell_type": "code",
   "execution_count": 366,
   "metadata": {},
   "outputs": [],
   "source": [
    "prompt = ChatPromptTemplate.from_messages(\n",
    "    [\n",
    "        (\"system\", system_prompt),\n",
    "        (\"human\", \"{input}\"),\n",
    "    ]\n",
    ")"
   ]
  },
  {
   "cell_type": "code",
   "execution_count": 367,
   "metadata": {},
   "outputs": [],
   "source": [
    "question_answer_chain = create_stuff_documents_chain(llm, prompt)\n",
    "rag_chain = create_retrieval_chain(retriever, question_answer_chain)"
   ]
  },
  {
   "cell_type": "code",
   "execution_count": 386,
   "metadata": {},
   "outputs": [
    {
     "name": "stdout",
     "output_type": "stream",
     "text": [
      "\n",
      "Able provided Syntax with a concentrated burst of premium product engineering expertise, allowing them to move quickly and with high quality.\n"
     ]
    }
   ],
   "source": [
    "response = rag_chain.invoke({\"input\": \"What did Able build for Syntax??\"})\n",
    "print(response[\"answer\"])"
   ]
  },
  {
   "cell_type": "code",
   "execution_count": 385,
   "metadata": {},
   "outputs": [
    {
     "name": "stdout",
     "output_type": "stream",
     "text": [
      "\n",
      "\n",
      "Able prioritizes secure AI development by embedding emerging best practices and state-of-the-art techniques throughout their ideation and development processes. This ensures that their AI solutions are secure, transparent, and governed.\n"
     ]
    }
   ],
   "source": [
    "response = rag_chain.invoke({\"input\": \"How does Able ensure secure AI development?\"})\n",
    "print(response[\"answer\"])"
   ]
  },
  {
   "cell_type": "code",
   "execution_count": 370,
   "metadata": {},
   "outputs": [
    {
     "name": "stdout",
     "output_type": "stream",
     "text": [
      "\n",
      "\n",
      "Able's unique capability is its ability to constantly evolve and deliver cutting-edge solutions for clients, with a focus on innovation in software development, particularly in utilizing AI to improve processes and talent density.\n"
     ]
    }
   ],
   "source": [
    "response = rag_chain.invoke({\"input\": \"what is Able’s Unique Capability ?\"})\n",
    "print(response[\"answer\"])"
   ]
  },
  {
   "cell_type": "code",
   "execution_count": 371,
   "metadata": {},
   "outputs": [
    {
     "name": "stdout",
     "output_type": "stream",
     "text": [
      "\n",
      "\n",
      "There is no specific number of partners mentioned in the given context. However, it can be inferred that Able has multiple partners based on their success in helping 2176 students raise $4,158,601 in funding for summer.\n"
     ]
    }
   ],
   "source": [
    "response = rag_chain.invoke({\"input\": \"howw many partnerrs in able ?\"})\n",
    "print(response[\"answer\"])\n"
   ]
  },
  {
   "cell_type": "code",
   "execution_count": 372,
   "metadata": {},
   "outputs": [
    {
     "name": "stdout",
     "output_type": "stream",
     "text": [
      "Q1: What did Able build for Syntax?\n",
      "Expected: Syntax and Able accelerated the zero-to-market journey using AI.\n",
      "Actual: \n",
      "\n",
      "Able provided Syntax with a concentrated burst of premium product engineering expertise.\n",
      "--------------------------------------------------\n",
      "Q2: What is Able’s approach to security?\n",
      "Expected: They prioritize secure, transparent, and governed AI development.\n",
      "Actual: \n",
      "\n",
      "Able prioritizes security in its services and technology practices to ensure efficient and safe product delivery for its clients.\n",
      "--------------------------------------------------\n"
     ]
    }
   ],
   "source": [
    "test_questions = [\n",
    "    {\"question\": \"What did Able build for Syntax?\", \"expected\": \"Syntax and Able accelerated the zero-to-market journey using AI.\"},\n",
    "    {\"question\": \"What is Able’s approach to security?\", \"expected\": \"They prioritize secure, transparent, and governed AI development.\"},\n",
    "]\n",
    "\n",
    "for i, test in enumerate(test_questions):\n",
    "    response = rag_chain.invoke({\"input\": test[\"question\"]})\n",
    "    print(f\"Q{i+1}: {test['question']}\")\n",
    "    print(f\"Expected: {test['expected']}\")\n",
    "    print(f\"Actual: {response['answer']}\")\n",
    "    print(\"-\" * 50)\n"
   ]
  },
  {
   "cell_type": "code",
   "execution_count": 373,
   "metadata": {},
   "outputs": [
    {
     "name": "stdout",
     "output_type": "stream",
     "text": [
      "Q: What did Able build for Syntax?\n",
      "Score: 0.487\n",
      "Q: What is Able’s approach to security?\n",
      "Score: 0.533\n"
     ]
    }
   ],
   "source": [
    "from sentence_transformers import SentenceTransformer, util\n",
    "\n",
    "model = SentenceTransformer(\"all-MiniLM-L6-v2\")  # same as you use\n",
    "\n",
    "def similarity_score(answer, expected):\n",
    "    embeddings = model.encode([answer, expected], convert_to_tensor=True)\n",
    "    score = util.pytorch_cos_sim(embeddings[0], embeddings[1])\n",
    "    return score.item()\n",
    "\n",
    "for test in test_questions:\n",
    "    response = rag_chain.invoke({\"input\": test[\"question\"]})\n",
    "    score = similarity_score(response[\"answer\"], test[\"expected\"])\n",
    "    print(f\"Q: {test['question']}\\nScore: {score:.3f}\")\n"
   ]
  },
  {
   "cell_type": "code",
   "execution_count": 374,
   "metadata": {},
   "outputs": [
    {
     "name": "stdout",
     "output_type": "stream",
     "text": [
      "Q: What did Able build for Syntax?\n",
      "Score: 0.487\n",
      "Q: What is Able’s approach to security?\n",
      "Score: 0.412\n"
     ]
    }
   ],
   "source": [
    "from sentence_transformers import SentenceTransformer, util\n",
    "\n",
    "model = SentenceTransformer(\"all-MiniLM-L6-v2\")  # same as you use\n",
    "\n",
    "def similarity_score(answer, expected):\n",
    "    embeddings = model.encode([answer, expected], convert_to_tensor=True)\n",
    "    score = util.pytorch_cos_sim(embeddings[0], embeddings[1])\n",
    "    return score.item()\n",
    "\n",
    "for test in test_questions:\n",
    "    response = rag_chain.invoke({\"input\": test[\"question\"]})\n",
    "    score = similarity_score(response[\"answer\"], test[\"expected\"])\n",
    "    print(f\"Q: {test['question']}\\nScore: {score:.3f}\")\n"
   ]
  },
  {
   "cell_type": "code",
   "execution_count": 378,
   "metadata": {},
   "outputs": [
    {
     "name": "stderr",
     "output_type": "stream",
     "text": [
      "100%|██████████| 96/96 [01:45<00:00,  1.10s/it]\n"
     ]
    },
    {
     "data": {
      "image/png": "[encoded data removed]",
      "text/plain": [
       "<Figure size 1200x600 with 1 Axes>"
      ]
     },
     "metadata": {},
     "output_type": "display_data"
    }
   ],
   "source": [
    "import pandas as pd\n",
    "import matplotlib.pyplot as plt\n",
    "from sentence_transformers import SentenceTransformer, util\n",
    "from tqdm import tqdm\n",
    "\n",
    "# Load evaluation data\n",
    "df = pd.read_csv(\"Data/able_qa_dataset_100.csv\")\n",
    "\n",
    "# Load similarity model (same as used in embedding)\n",
    "similarity_model = SentenceTransformer(\"sentence-transformers/all-mpnet-base-v2\")\n",
    "\n",
    "# Store results\n",
    "results = []\n",
    "\n",
    "for _, row in tqdm(df.iterrows(), total=len(df)):\n",
    "    question = row[\"question\"]\n",
    "    ground_truth = row[\"answer\"]\n",
    "\n",
    "    try:\n",
    "        response = rag_chain.invoke({\"input\": question})\n",
    "        model_answer = response[\"answer\"]\n",
    "    except Exception as e:\n",
    "        model_answer = \"Error\"\n",
    "\n",
    "    # Compute similarity score\n",
    "    emb1 = similarity_model.encode(model_answer, convert_to_tensor=True)\n",
    "    emb2 = similarity_model.encode(ground_truth, convert_to_tensor=True)\n",
    "    score = util.cos_sim(emb1, emb2).item()\n",
    "\n",
    "    results.append({\n",
    "        \"question\": question,\n",
    "        \"ground_truth\": ground_truth,\n",
    "        \"model_answer\": model_answer,\n",
    "        \"similarity_score\": round(score, 3)\n",
    "    })\n",
    "\n",
    "# Save results\n",
    "results_df = pd.DataFrame(results)\n",
    "results_df.to_csv(\"evaluation_results.csv\", index=False)\n",
    "\n",
    "# Plot the scores\n",
    "plt.figure(figsize=(12, 6))\n",
    "plt.bar(range(len(results_df)), results_df[\"similarity_score\"])\n",
    "plt.xticks(range(len(results_df)), [f\"Q{i+1}\" for i in range(len(results_df))], rotation=45)\n",
    "plt.ylabel(\"Cosine Similarity Score\")\n",
    "plt.ylim(0, 1)\n",
    "plt.title(\"RAG Model Answer Similarity Evaluation\")\n",
    "plt.tight_layout()\n",
    "plt.show()\n"
   ]
  },
  {
   "cell_type": "code",
   "execution_count": 383,
   "metadata": {},
   "outputs": [
    {
     "data": {
      "image/png": "[encoded data removed]",
      "text/plain": [
       "<Figure size 10000x600 with 1 Axes>"
      ]
     },
     "metadata": {},
     "output_type": "display_data"
    }
   ],
   "source": [
    "# Plot the scores\n",
    "plt.figure(figsize=(100, 6))\n",
    "plt.bar(range(len(results_df)), results_df[\"similarity_score\"])\n",
    "plt.xticks(range(len(results_df)), [f\"Q{i+1}\" for i in range(len(results_df))], rotation=45)\n",
    "plt.ylabel(\"Cosine Similarity Score\")\n",
    "plt.ylim(0, 1)\n",
    "plt.title(\"RAG Model Answer Similarity Evaluation\")\n",
    "plt.tight_layout()\n",
    "plt.show()"
   ]
  },
  {
   "cell_type": "code",
   "execution_count": null,
   "metadata": {},
   "outputs": [],
   "source": []
  }
 ],
 "metadata": {
  "kernelspec": {
   "display_name": "Chatbotenv",
   "language": "python",
   "name": "python3"
  },
  "language_info": {
   "codemirror_mode": {
    "name": "ipython",
    "version": 3
   },
   "file_extension": ".py",
   "mimetype": "text/x-python",
   "name": "python",
   "nbconvert_exporter": "python",
   "pygments_lexer": "ipython3",
   "version": "3.10.16"
  }
 },
 "nbformat": 4,
 "nbformat_minor": 2
}
